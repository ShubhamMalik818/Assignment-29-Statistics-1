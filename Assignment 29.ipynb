{
 "cells": [
  {
   "cell_type": "code",
   "execution_count": null,
   "id": "e1a9f52f-4061-498a-b300-d4f37e4a387a",
   "metadata": {},
   "outputs": [],
   "source": [
    "1. What is Statistics?"
   ]
  },
  {
   "cell_type": "code",
   "execution_count": null,
   "id": "b353a7fa-3196-4c38-84d1-b0a517d50bcd",
   "metadata": {},
   "outputs": [],
   "source": [
    "ANS- Statistics is a branch of mathematics that deals with the collection, analysis, interpretation, presentation, and organization of data. \n",
    "     It provides a way to understand and make sense of data by using statistical methods and techniques.\n",
    "\n",
    "Statistics can be used to describe and summarize data, make inferences about a population based on a sample, test hypotheses, and make predictions. \n",
    "It is an important tool for decision-making in many fields, including business, economics, healthcare, social sciences, and engineering.\n",
    "\n",
    "Some key concepts in statistics include measures of central tendency (such as mean, median, and mode), measures of dispersion \n",
    "(such as range, variance, and standard deviation), probability theory, hypothesis testing, and regression analysis."
   ]
  },
  {
   "cell_type": "code",
   "execution_count": null,
   "id": "582aef4a-caf9-4a73-a5bd-d1ef2952d63d",
   "metadata": {},
   "outputs": [],
   "source": [
    "2. Define the different types of statistics and give an example of when each type might be used."
   ]
  },
  {
   "cell_type": "code",
   "execution_count": null,
   "id": "73503e32-63ea-4b78-becc-ae6ad689b398",
   "metadata": {},
   "outputs": [],
   "source": [
    "ANS- Broadly speaking, there are two main types of statistics: descriptive statistics and inferential statistics.\n",
    "\n",
    "    1. Descriptive Statistics: \n",
    "        1. It consists of organizing data\n",
    "        2. Measure of central tendency(Mean, Median and Mode).\n",
    "        3. Measure of dispersion(Variance, Standard Deviation)\n",
    "\n",
    "        Example: Suppose a company wants to know the average salary of its employees. The company can calculate the mean salary of all its employees, \n",
    "                 which would be a measure of central tendency.\n",
    "\n",
    "    2. Inferential Statistics: \n",
    "          It consists of using data you have measured to form conclusion.\n",
    "            \n",
    "        Example:  Suppose a pharmaceutical company wants to test the efficacy of a new drug. The company can conduct a randomized controlled \n",
    "                  trial where a sample of participants is given the drug, and another sample is given a placebo. The company can then use \n",
    "                  inferential statistics to determine whether the drug is effective based on the results of the trial. "
   ]
  },
  {
   "cell_type": "code",
   "execution_count": null,
   "id": "01042744-bf5a-42f3-a464-721d83c1dcb3",
   "metadata": {},
   "outputs": [],
   "source": [
    "3. What are the different types of data and how do they differ from each other? Provide an example of each type of data."
   ]
  },
  {
   "cell_type": "code",
   "execution_count": null,
   "id": "0ade2539-90ff-4cfa-bdae-ec754280b3d2",
   "metadata": {},
   "outputs": [],
   "source": [
    "ANS- There are two main types of data: categorical data and numerical data.\n",
    "\n",
    "    1. Categorical Data: Categorical data is data that represents qualitative or nominal characteristics that are not numerical in nature. \n",
    "                         Categorical data can be further divided into nominal and ordinal data.\n",
    "        \n",
    "        1.1. Nominal Data: Nominal data is data that represents categories that have no inherent order or ranking. \n",
    "                           Examples of nominal data include gender, race, and type of car.\n",
    "        1.2 Ordinal Data: Ordinal data is data that represents categories that have an inherent order or ranking. \n",
    "                          Examples of ordinal data include levels of education, income brackets, and customer satisfaction ratings.\n",
    "\n",
    "    2. Numerical Data: Numerical data is data that represents quantitative or measurable characteristics that are numerical in nature. \n",
    "                       Numerical data can be further divided into discrete and continuous data.\n",
    "        \n",
    "        2.1 Discrete Data: Discrete data is data that represents individual, separate values that are countable and finite. \n",
    "                           Examples of discrete data include the number of children in a family, the number of cars in a parking lot, and \n",
    "                           the number of students in a class.\n",
    "\n",
    "        2.2 Continuous Data: Continuous data is data that represents values that can take on any numerical value within a given range. \n",
    "                             Examples of continuous data include height, weight, and temperature.\n",
    "            \n",
    "It is important to note that data types can impact the types of statistical analyses that can be performed on the data. \n",
    "For example, nominal data can only be summarized using frequency tables and percentages, while continuous data can be summarized using \n",
    "measures of central tendency and variability, such as mean and standard deviation."
   ]
  },
  {
   "cell_type": "code",
   "execution_count": null,
   "id": "d235fe95-d129-4d72-be09-d76b1ee5c9f1",
   "metadata": {},
   "outputs": [],
   "source": [
    "4. Categorise the following datasets with respect to quantitative and qualitative data types:\n",
    "(i) Grading in exam: A+, A, B+, B, C+, C, D, E\n",
    "(ii) Colour of mangoes: yellow, green, orange, red\n",
    "(iii) Height data of a class: [178.9, 179, 179.5, 176, 177.2, 178.3, 175.8,...]\n",
    "(iv) Number of mangoes exported by a farm: [500, 600, 478, 672, ...]"
   ]
  },
  {
   "cell_type": "code",
   "execution_count": null,
   "id": "cccabfed-2629-4718-84f7-dc58f04f387f",
   "metadata": {},
   "outputs": [],
   "source": [
    "ANS- (i) Grading in exam: Qualitative (Ordinal) data\n",
    "  (ii) Colour of mangoes: Qualitative (Nominal) data\n",
    "    (iii) Height data of a class: Quantitative (Continuous) data\n",
    "    (iv) Number of mangoes exported by a farm: Quantitative (Discrete) data"
   ]
  },
  {
   "cell_type": "code",
   "execution_count": null,
   "id": "cc44ef3b-9525-49f8-8e63-30e033513335",
   "metadata": {},
   "outputs": [],
   "source": [
    "5. Explain the concept of levels of measurement and give an example of a variable for each level."
   ]
  },
  {
   "cell_type": "code",
   "execution_count": null,
   "id": "463f3d30-3ab0-410e-9392-389a84be3d3e",
   "metadata": {},
   "outputs": [],
   "source": [
    "ANS- The concept of levels of measurement, also known as scales of measurement or types of data, refers to the different ways in which variables \n",
    "     can be measured and classified based on their characteristics. \n",
    "    \n",
    "    There are four main levels of measurement: nominal, ordinal, interval, and ratio.\n",
    "\n",
    "    1. Nominal Level of Measurement: The nominal level of measurement is the simplest level of measurement and involves variables that have \n",
    "                                     categories with no inherent order or ranking. Nominal variables are qualitative in nature and cannot be \n",
    "                                     ordered or ranked. \n",
    "        Examples of nominal variables include gender, race, and type of car.\n",
    "\n",
    "    2. Ordinal Level of Measurement: The ordinal level of measurement involves variables that have categories with an inherent order or ranking. \n",
    "                                     Ordinal variables are qualitative in nature and can be ordered or ranked. However, the distance between \n",
    "                                     categories is not known or equal. \n",
    "        Examples of ordinal variables include educational level (elementary, middle, high school, college), letter grades (A, B, C, D, F), and \n",
    "        socioeconomic status (low, middle, high).\n",
    "\n",
    "    3. Interval Level of Measurement: The interval level of measurement involves variables that have numerical values that are equally spaced \n",
    "                                      and have an arbitrary zero point. Interval variables are quantitative in nature and can be ordered or ranked, \n",
    "                                      and the distance between categories is known and equal. However, the zero point is arbitrary and does not \n",
    "                                      indicate the absence of the variable. \n",
    "        Examples of interval variables include temperature (measured in degrees Celsius or Fahrenheit) and dates (measured in years).\n",
    "\n",
    "    4. Ratio Level of Measurement: The ratio level of measurement is the most advanced level of measurement and involves variables that have \n",
    "                                   numerical values that are equally spaced and have a true zero point that indicates the absence of the variable. \n",
    "                                   Ratio variables are quantitative in nature and can be ordered or ranked, and the distance between categories \n",
    "                                   is known and equal. \n",
    "        Examples of ratio variables include height, weight, income, and age.\n",
    "\n",
    "Examples:\n",
    "\n",
    "Nominal: blood type (A, B, AB, O)\n",
    "Ordinal: performance rating (poor, average, good, excellent)\n",
    "Interval: temperature in degrees Celsius (measured on a thermometer)\n",
    "Ratio: weight in kilograms (measured on a scale)"
   ]
  },
  {
   "cell_type": "code",
   "execution_count": null,
   "id": "b36ed486-9957-4d39-9ae7-09c0a1883be4",
   "metadata": {},
   "outputs": [],
   "source": [
    "6. Why is it important to understand the level of measurement when analyzing data? Provide an example to illustrate your answer."
   ]
  },
  {
   "cell_type": "code",
   "execution_count": null,
   "id": "a9e64172-8f01-41fe-a8b2-29309f8a0bd3",
   "metadata": {},
   "outputs": [],
   "source": [
    "ANS- It is important to understand the level of measurement when analyzing data because it determines which statistical methods are \n",
    "     appropriate for summarizing and analyzing the data. Different levels of measurement require different types of statistical analyses \n",
    "     and data visualization techniques.\n",
    "\n",
    "For example, if we have data on the height of students in a class, we can classify it as quantitative (continuous) data at the interval \n",
    "level of measurement. We can use measures of central tendency, such as the mean or median, and measures of variability, such as the \n",
    "standard deviation or range, to summarize the data. We can also create a histogram or box plot to visualize the distribution of the data.\n",
    "\n",
    "On the other hand, if we have data on the gender of students in a class, we can classify it as qualitative (nominal) data. We can use \n",
    "frequency tables and percentages to summarize the data. We can also create a bar chart or pie chart to visualize the distribution of the data.\n",
    "\n",
    "If we try to use statistical methods that are appropriate for one level of measurement on data from a different level of measurement, \n",
    "we may obtain invalid or meaningless results. \n",
    "For example, it would not make sense to calculate the mean or median of the gender data, or to create a histogram or box plot to visualize the data, \n",
    "because gender is a qualitative variable with no inherent numerical meaning."
   ]
  },
  {
   "cell_type": "code",
   "execution_count": null,
   "id": "b9995b22-5476-4b4b-9295-db83bdcfefc7",
   "metadata": {},
   "outputs": [],
   "source": [
    "7. How nominal data type is different from ordinal data type."
   ]
  },
  {
   "cell_type": "code",
   "execution_count": null,
   "id": "0be0ed59-379f-461e-a5ca-feeabb99eeca",
   "metadata": {},
   "outputs": [],
   "source": [
    "ANS- Nominal and ordinal are two types of qualitative data.\n",
    "\n",
    "     1. Nominal data is characterized by categories that do not have a natural order or ranking. For example, gender, eye color, or car make/model \n",
    "        are nominal variables. Nominal variables are often coded using numbers, but the numbers do not represent any inherent order or ranking. \n",
    "        For example, we might code gender as 0 for male and 1 for female, but there is no inherent meaning to these codes. \n",
    "        We could also code gender as 1 for male and 2 for female, and the data would still be nominal.\n",
    "\n",
    "    2. Ordinal data, on the other hand, is characterized by categories that have a natural order or ranking. \n",
    "       For example, educational level (elementary, middle, high school, college), letter grades (A, B, C, D, F), or \n",
    "        socioeconomic status (low, middle, high) are ordinal variables. The numbers used to represent the categories have a specific order \n",
    "        or ranking. For example, an A grade is higher than a B grade, and socioeconomic status can be ordered from low to high.\n",
    "\n",
    "In summary, the key difference between nominal and ordinal data is that nominal data have categories with no inherent order or ranking, \n",
    "while ordinal data have categories with a natural order or ranking."
   ]
  },
  {
   "cell_type": "code",
   "execution_count": null,
   "id": "d686c26e-ade0-44e8-8454-316f5daadedf",
   "metadata": {},
   "outputs": [],
   "source": [
    "8. Which type of plot can be used to display data in terms of range?"
   ]
  },
  {
   "cell_type": "code",
   "execution_count": null,
   "id": "f9a8d9ba-6d2a-4061-87ba-f8f728c67a2f",
   "metadata": {},
   "outputs": [],
   "source": [
    "ANS- A box plot (also known as a box and whisker plot) can be used to display data in terms of range. The box in the plot shows the \n",
    "     interquartile range (IQR), which represents the range between the first and third quartiles of the data. The whiskers extend from \n",
    "     the box to the smallest and largest values within 1.5 times the IQR of the first and third quartiles, respectively. \n",
    "    Any data points outside this range are considered outliers and are plotted individually as dots.\n",
    "\n",
    "The box plot is useful for displaying the distribution of data and identifying potential outliers. It can also be used to compare the \n",
    "distribution of multiple groups or variables. \n",
    "For example, if we have data on the heights of students in different grades, we can use a box plot to compare the ranges of heights \n",
    "across different grades."
   ]
  },
  {
   "cell_type": "code",
   "execution_count": null,
   "id": "4a33ef3c-54bf-4085-b487-635978c30cc2",
   "metadata": {},
   "outputs": [],
   "source": [
    "9. Describe the difference between descriptive and inferential statistics. Give an example of each type of statistics and explain how they are used."
   ]
  },
  {
   "cell_type": "code",
   "execution_count": null,
   "id": "b212ba7d-7eff-4f13-8f81-cbab4d39b5a9",
   "metadata": {},
   "outputs": [],
   "source": [
    "ANS- Descriptive and inferential statistics are two broad categories of statistical analyses.\n",
    "\n",
    "    1. Descriptive statistics are used to summarize and describe the main features of a dataset, such as measures of central tendency \n",
    "       (e.g., mean, median, mode) and measures of variability (e.g., range, standard deviation). Descriptive statistics are used to provide \n",
    "        a summary of the data, but they do not involve any generalization beyond the data itself. Descriptive statistics are commonly used \n",
    "        in fields such as public health, social sciences, and business to provide a snapshot of a particular population or group.\n",
    "\n",
    "An example of descriptive statistics is the mean and standard deviation of a dataset of exam scores for a group of students. We can calculate \n",
    "the mean and standard deviation of the scores to summarize the overall performance of the group. We can also create a histogram or box plot to \n",
    "visualize the distribution of the scores.\n",
    "\n",
    "     2. Inferential statistics, on the other hand, are used to make inferences or generalizations about a population based on a sample of data. \n",
    "        Inferential statistics involve estimating parameters of a population based on a sample of data, and testing hypotheses about the \n",
    "        relationship between variables or differences between groups. Inferential statistics are commonly used in scientific research, medicine, \n",
    "        and engineering to make predictions or decisions based on limited data.\n",
    "\n",
    "An example of inferential statistics is a hypothesis test to compare the mean exam scores of two groups of students. We can collect a sample of \n",
    "students from each group and calculate the mean scores for each group. We can then use inferential statistics to test whether the difference \n",
    "between the two means is statistically significant, which would suggest that the two groups have different levels of performance. This can help \n",
    "us make decisions about how to improve educational outcomes for different groups of students.\n",
    "\n",
    "In summary, descriptive statistics are used to summarize and describe a dataset, while inferential statistics are used to make inferences or \n",
    "generalizations about a population based on a sample of data."
   ]
  },
  {
   "cell_type": "code",
   "execution_count": null,
   "id": "0d1246a5-314b-44ee-8c01-75ede912ad96",
   "metadata": {},
   "outputs": [],
   "source": [
    "10. What are some common measures of central tendency and variability used in statistics? Explain how each measure can be used to describe a dataset."
   ]
  },
  {
   "cell_type": "code",
   "execution_count": null,
   "id": "5e5a0566-6536-4ebb-a46a-292a22f5990a",
   "metadata": {},
   "outputs": [],
   "source": [
    "ANS- Measures of central tendency and variability are two types of descriptive statistics used to describe the main features of a dataset. \n",
    "     The most commonly used measures of central tendency and variability are:\n",
    "\n",
    "    1. Measures of central tendency:\n",
    "\n",
    "    1.1 Mean: The mean is the average value of a dataset and is calculated by adding up all the values in the dataset and dividing by the \n",
    "              number of values. The mean is used to describe the typical value of a dataset.\n",
    "\n",
    "    1.2 Median: The median is the middle value in a dataset when the values are arranged in order from smallest to largest. The median is \n",
    "                used to describe the value that separates the dataset into two equal halves.\n",
    "    1.3 Mode: The mode is the most frequent value in a dataset. The mode is used to describe the value that occurs most frequently in a dataset.\n",
    "    \n",
    "    \n",
    "    2. Measures of variability:\n",
    "\n",
    "    2.1 Range: The range is the difference between the largest and smallest values in a dataset. The range is used to describe the spread or \n",
    "               dispersion of the dataset.\n",
    "\n",
    "    2.2 Standard deviation: The standard deviation is a measure of the spread of a dataset around the mean. It measures how much the values \n",
    "                            in a dataset vary from the mean. A larger standard deviation indicates a wider spread of values, while a smaller \n",
    "                            standard deviation indicates a more narrow spread of values.\n",
    "\n",
    "    2.3 Interquartile range (IQR): The IQR is the difference between the third quartile (75th percentile) and the first quartile (25th percentile) \n",
    "                                   of a dataset. The IQR is used to describe the spread of the middle 50% of the dataset, which can be more \n",
    "                                   robust to outliers than the range or standard deviation.\n",
    "Each of these measures can be used to describe different aspects of a dataset. The mean, median, and mode provide information about the typical value or central tendency of the dataset, while the range, standard deviation, and IQR provide information about the variability or spread of the dataset. For example, if we are comparing the heights of two groups of people, we might use the mean and standard deviation to describe the average height and the spread of heights within each group. Alternatively, if the dataset contains outliers or extreme values, we might use the median and IQR instead of the mean and standard deviation to describe the central tendency and spread of the dataset.\n",
    "\n",
    "\n",
    "\n",
    "\n",
    "\n"
   ]
  }
 ],
 "metadata": {
  "kernelspec": {
   "display_name": "Python 3 (ipykernel)",
   "language": "python",
   "name": "python3"
  },
  "language_info": {
   "codemirror_mode": {
    "name": "ipython",
    "version": 3
   },
   "file_extension": ".py",
   "mimetype": "text/x-python",
   "name": "python",
   "nbconvert_exporter": "python",
   "pygments_lexer": "ipython3",
   "version": "3.10.8"
  }
 },
 "nbformat": 4,
 "nbformat_minor": 5
}
